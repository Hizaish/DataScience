{
  "cells": [
    {
      "cell_type": "markdown",
      "metadata": {
        "id": "view-in-github",
        "colab_type": "text"
      },
      "source": [
        "<a href=\"https://colab.research.google.com/github/Hizaish/DataScience/blob/main/finding_missing_data_in_pandas.ipynb\" target=\"_parent\"><img src=\"https://colab.research.google.com/assets/colab-badge.svg\" alt=\"Open In Colab\"/></a>"
      ]
    },
    {
      "cell_type": "code",
      "execution_count": null,
      "id": "e15ac1ed",
      "metadata": {
        "colab": {
          "base_uri": "https://localhost:8080/"
        },
        "id": "e15ac1ed",
        "outputId": "176374af-fb8d-45ae-d719-80300ff92f33"
      },
      "outputs": [
        {
          "output_type": "stream",
          "name": "stdout",
          "text": [
            "Mounted at /content/gdrive\n"
          ]
        }
      ],
      "source": [
        "from google.colab import drive\n",
        "drive.mount('/content/gdrive')\n"
      ]
    },
    {
      "cell_type": "code",
      "source": [
        "\n",
        "import numpy as np\n",
        "import pandas as pd\n",
        "array =np.array([3,None,0,4,np.nan])\n",
        "print(array)"
      ],
      "metadata": {
        "colab": {
          "base_uri": "https://localhost:8080/"
        },
        "id": "1lWDDqnC14C4",
        "outputId": "542a13ea-75b6-4406-ea1d-386802bde715"
      },
      "id": "1lWDDqnC14C4",
      "execution_count": null,
      "outputs": [
        {
          "output_type": "stream",
          "name": "stdout",
          "text": [
            "[3 None 0 4 nan]\n"
          ]
        }
      ]
    },
    {
      "cell_type": "code",
      "execution_count": null,
      "id": "cbb67dd1",
      "metadata": {
        "colab": {
          "base_uri": "https://localhost:8080/"
        },
        "id": "cbb67dd1",
        "outputId": "2711aedc-085e-4821-f2a4-15070e8f4ad5"
      },
      "outputs": [
        {
          "output_type": "stream",
          "name": "stdout",
          "text": [
            "[ 3. nan  0.  4. nan]\n"
          ]
        }
      ],
      "source": [
        "import numpy as np\n",
        "import pandas as pd\n",
        "array =np.array([3,np.nan,0,4,np.nan])\n",
        "print(array)"
      ]
    },
    {
      "cell_type": "code",
      "execution_count": null,
      "id": "29c7b8db",
      "metadata": {
        "id": "29c7b8db"
      },
      "outputs": [],
      "source": [
        "import numpy as np\n",
        "import pandas as np\n",
        "#create a csv dataset\n",
        "data_string='''ID,Gender,Salary,Country,Company\n",
        "1,Male,15000,India,Google\n",
        "2,Female,45000,China,NaN\n",
        "3,Female,25000,India,Google\n",
        "4,NaN,NaN,Australia,Google\n",
        "5,Male,NaN,India,Google\n",
        "6,Male,54000,NaN,Alibaba\n",
        "7,NaN,74000,China,NaN\n",
        "8,Male,14000,Australia,NaN\n",
        "9,Female,15000,NaN,NaN\n",
        "10,Male,33000,Australia,NaN'''\n",
        "with open('salary.csv', 'w') as out:\n",
        "    out.write(data_string)"
      ]
    },
    {
      "cell_type": "code",
      "execution_count": null,
      "id": "682f2e70",
      "metadata": {
        "colab": {
          "base_uri": "https://localhost:8080/"
        },
        "id": "682f2e70",
        "outputId": "5159911f-ab3d-41b3-f278-0e3cd369279c"
      },
      "outputs": [
        {
          "output_type": "stream",
          "name": "stdout",
          "text": [
            "Salary Dataset: \n",
            "    ID  Gender   Salary    Country  Company\n",
            "0   1    Male  15000.0      India   Google\n",
            "1   2  Female  45000.0      China      NaN\n",
            "2   3  Female  25000.0      India   Google\n",
            "3   4     NaN      NaN  Australia   Google\n",
            "4   5    Male      NaN      India   Google\n",
            "5   6    Male  54000.0        NaN  Alibaba\n",
            "6   7     NaN  74000.0      China      NaN\n",
            "7   8    Male  14000.0  Australia      NaN\n",
            "8   9  Female  15000.0        NaN      NaN\n",
            "9  10    Male  33000.0  Australia      NaN\n",
            "Missing Data\n",
            "       ID  Gender  Salary  Country  Company\n",
            "0  False   False   False    False    False\n",
            "1  False   False   False    False     True\n",
            "2  False   False   False    False    False\n",
            "3  False    True    True    False    False\n",
            "4  False   False    True    False    False\n",
            "5  False   False   False     True    False\n",
            "6  False    True   False    False     True\n",
            "7  False   False   False    False     True\n",
            "8  False   False   False     True     True\n",
            "9  False   False   False    False     True\n",
            "Missing Data\n",
            "       ID  Gender  Salary  Country  Company\n",
            "0  False   False   False    False    False\n",
            "1  False   False   False    False     True\n",
            "2  False   False   False    False    False\n",
            "3  False    True    True    False    False\n",
            "4  False   False    True    False    False\n",
            "5  False   False   False     True    False\n",
            "6  False    True   False    False     True\n",
            "7  False   False   False    False     True\n",
            "8  False   False   False     True     True\n",
            "9  False   False   False    False     True\n",
            "Filter based on columns: \n",
            "    ID  Gender   Salary    Country  Company\n",
            "1   2  Female  45000.0      China      NaN\n",
            "3   4     NaN      NaN  Australia   Google\n",
            "4   5    Male      NaN      India   Google\n",
            "5   6    Male  54000.0        NaN  Alibaba\n",
            "6   7     NaN  74000.0      China      NaN\n",
            "7   8    Male  14000.0  Australia      NaN\n",
            "8   9  Female  15000.0        NaN      NaN\n",
            "9  10    Male  33000.0  Australia      NaN\n",
            "Sum up the missing values: \n",
            " ID         0\n",
            "Gender     2\n",
            "Salary     2\n",
            "Country    2\n",
            "Company    5\n",
            "dtype: int64\n"
          ]
        }
      ],
      "source": [
        "df = pd.read_csv('salary.csv')\n",
        "print('Salary Dataset: \\n', df)\n",
        "# Check for missing data\n",
        "print('Missing Data\\n', df.isna())\n",
        "\n",
        "print('Missing Data\\n', df.isnull())\n",
        "\n",
        "# Print only missing data\n",
        "print('Filter based on columns: \\n', df[df.isnull().any(axis=1)])\n",
        "\n",
        "# Sum up the missing values\n",
        "print('Sum up the missing values: \\n', df.isnull().sum())"
      ]
    },
    {
      "cell_type": "code",
      "execution_count": null,
      "id": "3839105e",
      "metadata": {
        "colab": {
          "base_uri": "https://localhost:8080/"
        },
        "id": "3839105e",
        "outputId": "fb30fc8e-09c6-41d6-d2f8-9a3a428aea54"
      },
      "outputs": [
        {
          "output_type": "stream",
          "name": "stdout",
          "text": [
            "   ID  Gender   Salary Country Company\n",
            "0   1    Male  15000.0   India  Google\n",
            "2   3  Female  25000.0   India  Google\n"
          ]
        }
      ],
      "source": [
        "df.dropna(inplace=True)\n",
        "print(df)"
      ]
    },
    {
      "cell_type": "code",
      "execution_count": null,
      "id": "81c77133",
      "metadata": {
        "colab": {
          "base_uri": "https://localhost:8080/"
        },
        "id": "81c77133",
        "outputId": "a12093bc-279d-4a1c-f7c1-03554d874998"
      },
      "outputs": [
        {
          "output_type": "stream",
          "name": "stdout",
          "text": [
            "   ID  Gender   Salary Country Company\n",
            "0   1    Male  15000.0   India  Google\n",
            "2   3  Female  25000.0   India  Google\n"
          ]
        }
      ],
      "source": [
        "#Replacing Missing data\n",
        "df[\"Salary\"].fillna(20000,inplace=True)\n",
        "print(df)"
      ]
    },
    {
      "cell_type": "code",
      "execution_count": null,
      "id": "62807380",
      "metadata": {
        "colab": {
          "base_uri": "https://localhost:8080/"
        },
        "id": "62807380",
        "outputId": "f20b3862-13ba-4111-99bf-64880c2fcb10"
      },
      "outputs": [
        {
          "output_type": "execute_result",
          "data": {
            "text/plain": [
              "0    False\n",
              "2    False\n",
              "Name: Gender, dtype: bool"
            ]
          },
          "metadata": {},
          "execution_count": 13
        }
      ],
      "source": [
        "Gender=pd.isnull(df[\"Gender\"])\n",
        "Gender"
      ]
    },
    {
      "cell_type": "code",
      "execution_count": null,
      "id": "8435f8db",
      "metadata": {
        "colab": {
          "base_uri": "https://localhost:8080/"
        },
        "id": "8435f8db",
        "outputId": "f9f69c12-5674-44ee-e99f-9fe3198cdc34"
      },
      "outputs": [
        {
          "output_type": "stream",
          "name": "stdout",
          "text": [
            "Non Missing Data\n",
            "      ID  Gender  Salary  Country  Company\n",
            "0  True    True    True     True     True\n",
            "2  True    True    True     True     True\n"
          ]
        }
      ],
      "source": [
        "print('Non Missing Data\\n',df.notnull())"
      ]
    },
    {
      "cell_type": "code",
      "execution_count": null,
      "id": "2c4ad345",
      "metadata": {
        "colab": {
          "base_uri": "https://localhost:8080/",
          "height": 182
        },
        "id": "2c4ad345",
        "outputId": "2d85e9c1-dc99-4962-9130-1fe9263bc571"
      },
      "outputs": [
        {
          "output_type": "stream",
          "name": "stdout",
          "text": [
            "Drop Missing Company Data\n",
            " 0    Google\n",
            "2    Google\n",
            "Name: Company, dtype: object\n"
          ]
        },
        {
          "output_type": "execute_result",
          "data": {
            "text/plain": [
              "   ID  Gender   Salary Country Company\n",
              "0   1    Male  15000.0   India  Google\n",
              "2   3  Female  25000.0   India  Google"
            ],
            "text/html": [
              "\n",
              "  <div id=\"df-587a2467-c0f7-4ffb-8665-4d0ede6e3992\">\n",
              "    <div class=\"colab-df-container\">\n",
              "      <div>\n",
              "<style scoped>\n",
              "    .dataframe tbody tr th:only-of-type {\n",
              "        vertical-align: middle;\n",
              "    }\n",
              "\n",
              "    .dataframe tbody tr th {\n",
              "        vertical-align: top;\n",
              "    }\n",
              "\n",
              "    .dataframe thead th {\n",
              "        text-align: right;\n",
              "    }\n",
              "</style>\n",
              "<table border=\"1\" class=\"dataframe\">\n",
              "  <thead>\n",
              "    <tr style=\"text-align: right;\">\n",
              "      <th></th>\n",
              "      <th>ID</th>\n",
              "      <th>Gender</th>\n",
              "      <th>Salary</th>\n",
              "      <th>Country</th>\n",
              "      <th>Company</th>\n",
              "    </tr>\n",
              "  </thead>\n",
              "  <tbody>\n",
              "    <tr>\n",
              "      <th>0</th>\n",
              "      <td>1</td>\n",
              "      <td>Male</td>\n",
              "      <td>15000.0</td>\n",
              "      <td>India</td>\n",
              "      <td>Google</td>\n",
              "    </tr>\n",
              "    <tr>\n",
              "      <th>2</th>\n",
              "      <td>3</td>\n",
              "      <td>Female</td>\n",
              "      <td>25000.0</td>\n",
              "      <td>India</td>\n",
              "      <td>Google</td>\n",
              "    </tr>\n",
              "  </tbody>\n",
              "</table>\n",
              "</div>\n",
              "      <button class=\"colab-df-convert\" onclick=\"convertToInteractive('df-587a2467-c0f7-4ffb-8665-4d0ede6e3992')\"\n",
              "              title=\"Convert this dataframe to an interactive table.\"\n",
              "              style=\"display:none;\">\n",
              "        \n",
              "  <svg xmlns=\"http://www.w3.org/2000/svg\" height=\"24px\"viewBox=\"0 0 24 24\"\n",
              "       width=\"24px\">\n",
              "    <path d=\"M0 0h24v24H0V0z\" fill=\"none\"/>\n",
              "    <path d=\"M18.56 5.44l.94 2.06.94-2.06 2.06-.94-2.06-.94-.94-2.06-.94 2.06-2.06.94zm-11 1L8.5 8.5l.94-2.06 2.06-.94-2.06-.94L8.5 2.5l-.94 2.06-2.06.94zm10 10l.94 2.06.94-2.06 2.06-.94-2.06-.94-.94-2.06-.94 2.06-2.06.94z\"/><path d=\"M17.41 7.96l-1.37-1.37c-.4-.4-.92-.59-1.43-.59-.52 0-1.04.2-1.43.59L10.3 9.45l-7.72 7.72c-.78.78-.78 2.05 0 2.83L4 21.41c.39.39.9.59 1.41.59.51 0 1.02-.2 1.41-.59l7.78-7.78 2.81-2.81c.8-.78.8-2.07 0-2.86zM5.41 20L4 18.59l7.72-7.72 1.47 1.35L5.41 20z\"/>\n",
              "  </svg>\n",
              "      </button>\n",
              "      \n",
              "  <style>\n",
              "    .colab-df-container {\n",
              "      display:flex;\n",
              "      flex-wrap:wrap;\n",
              "      gap: 12px;\n",
              "    }\n",
              "\n",
              "    .colab-df-convert {\n",
              "      background-color: #E8F0FE;\n",
              "      border: none;\n",
              "      border-radius: 50%;\n",
              "      cursor: pointer;\n",
              "      display: none;\n",
              "      fill: #1967D2;\n",
              "      height: 32px;\n",
              "      padding: 0 0 0 0;\n",
              "      width: 32px;\n",
              "    }\n",
              "\n",
              "    .colab-df-convert:hover {\n",
              "      background-color: #E2EBFA;\n",
              "      box-shadow: 0px 1px 2px rgba(60, 64, 67, 0.3), 0px 1px 3px 1px rgba(60, 64, 67, 0.15);\n",
              "      fill: #174EA6;\n",
              "    }\n",
              "\n",
              "    [theme=dark] .colab-df-convert {\n",
              "      background-color: #3B4455;\n",
              "      fill: #D2E3FC;\n",
              "    }\n",
              "\n",
              "    [theme=dark] .colab-df-convert:hover {\n",
              "      background-color: #434B5C;\n",
              "      box-shadow: 0px 1px 3px 1px rgba(0, 0, 0, 0.15);\n",
              "      filter: drop-shadow(0px 1px 2px rgba(0, 0, 0, 0.3));\n",
              "      fill: #FFFFFF;\n",
              "    }\n",
              "  </style>\n",
              "\n",
              "      <script>\n",
              "        const buttonEl =\n",
              "          document.querySelector('#df-587a2467-c0f7-4ffb-8665-4d0ede6e3992 button.colab-df-convert');\n",
              "        buttonEl.style.display =\n",
              "          google.colab.kernel.accessAllowed ? 'block' : 'none';\n",
              "\n",
              "        async function convertToInteractive(key) {\n",
              "          const element = document.querySelector('#df-587a2467-c0f7-4ffb-8665-4d0ede6e3992');\n",
              "          const dataTable =\n",
              "            await google.colab.kernel.invokeFunction('convertToInteractive',\n",
              "                                                     [key], {});\n",
              "          if (!dataTable) return;\n",
              "\n",
              "          const docLinkHtml = 'Like what you see? Visit the ' +\n",
              "            '<a target=\"_blank\" href=https://colab.research.google.com/notebooks/data_table.ipynb>data table notebook</a>'\n",
              "            + ' to learn more about interactive tables.';\n",
              "          element.innerHTML = '';\n",
              "          dataTable['output_type'] = 'display_data';\n",
              "          await google.colab.output.renderOutput(dataTable, element);\n",
              "          const docLink = document.createElement('div');\n",
              "          docLink.innerHTML = docLinkHtml;\n",
              "          element.appendChild(docLink);\n",
              "        }\n",
              "      </script>\n",
              "    </div>\n",
              "  </div>\n",
              "  "
            ]
          },
          "metadata": {},
          "execution_count": 15
        }
      ],
      "source": [
        "print('Drop Missing Company Data\\n', df.Company.dropna())\n",
        "df.dropna()"
      ]
    },
    {
      "cell_type": "code",
      "execution_count": null,
      "id": "d2b2f749",
      "metadata": {
        "colab": {
          "base_uri": "https://localhost:8080/"
        },
        "id": "d2b2f749",
        "outputId": "b3b48809-c841-4a71-bece-1929341d7c7f"
      },
      "outputs": [
        {
          "output_type": "stream",
          "name": "stdout",
          "text": [
            "   ID  Gender   Salary Country Company\n",
            "0   1    Male  15000.0   India  Google\n",
            "2   3  Female  25000.0   India  Google\n"
          ]
        }
      ],
      "source": [
        "df.dropna(axis = 1)\n",
        "print(df)"
      ]
    },
    {
      "cell_type": "code",
      "execution_count": null,
      "id": "cb9f6855",
      "metadata": {
        "colab": {
          "base_uri": "https://localhost:8080/"
        },
        "id": "cb9f6855",
        "outputId": "71f9d361-dcd8-439b-fa41-909a3e75217c"
      },
      "outputs": [
        {
          "output_type": "stream",
          "name": "stdout",
          "text": [
            "   ID  Gender   Salary Country Company\n",
            "0   1    Male  15000.0   India  Google\n",
            "2   3  Female  25000.0   India  Google\n"
          ]
        }
      ],
      "source": [
        "new_df = df.dropna(axis = 0, how ='any')\n",
        "print(new_df)"
      ]
    },
    {
      "cell_type": "code",
      "execution_count": null,
      "id": "e93a7d4a",
      "metadata": {
        "colab": {
          "base_uri": "https://localhost:8080/"
        },
        "id": "e93a7d4a",
        "outputId": "ff375eab-8bf1-4a08-bbc4-bff5db45ef3a"
      },
      "outputs": [
        {
          "output_type": "stream",
          "name": "stdout",
          "text": [
            "Fill Missing Data\n",
            "    ID  Gender   Salary Country Company\n",
            "0   1    Male  15000.0   India  Google\n",
            "2   3  Female  25000.0   India  Google\n"
          ]
        }
      ],
      "source": [
        "print('Fill Missing Data\\n', df.fillna(0))"
      ]
    },
    {
      "cell_type": "code",
      "execution_count": null,
      "id": "a2cade00",
      "metadata": {
        "colab": {
          "base_uri": "https://localhost:8080/"
        },
        "id": "a2cade00",
        "outputId": "bac2099c-5364-4bce-d761-f1f27a93619c"
      },
      "outputs": [
        {
          "output_type": "stream",
          "name": "stdout",
          "text": [
            "Fill Missing Data\n",
            "    ID  Gender   Salary Country Company\n",
            "0   1    Male  15000.0   India  Google\n",
            "2   3  Female  25000.0   India  Google\n"
          ]
        }
      ],
      "source": [
        "print('Fill Missing Data\\n', df.fillna(method ='pad'))"
      ]
    },
    {
      "cell_type": "code",
      "execution_count": null,
      "id": "cd275297",
      "metadata": {
        "colab": {
          "base_uri": "https://localhost:8080/"
        },
        "id": "cd275297",
        "outputId": "5b2c4f62-afc9-4a94-969a-685030eb48b9"
      },
      "outputs": [
        {
          "output_type": "stream",
          "name": "stdout",
          "text": [
            "Fill Missing Data\n",
            "    ID  Gender   Salary Country Company\n",
            "0   1    Male  15000.0   India  Google\n",
            "2   3  Female  25000.0   India  Google\n"
          ]
        }
      ],
      "source": [
        "print('Fill Missing Data\\n', df.fillna(method ='bfill'))"
      ]
    },
    {
      "cell_type": "code",
      "execution_count": null,
      "id": "818f3ab3",
      "metadata": {
        "colab": {
          "base_uri": "https://localhost:8080/"
        },
        "id": "818f3ab3",
        "outputId": "09ddc19b-d5d8-4b65-c926-291fc490fe1f"
      },
      "outputs": [
        {
          "output_type": "stream",
          "name": "stdout",
          "text": [
            "Fill Missing Data\n",
            " None\n"
          ]
        }
      ],
      "source": [
        "print('Fill Missing Data\\n', df[\"Gender\"].fillna(\"No Gender\", inplace = True))"
      ]
    },
    {
      "cell_type": "code",
      "execution_count": null,
      "id": "911c2373",
      "metadata": {
        "colab": {
          "base_uri": "https://localhost:8080/"
        },
        "id": "911c2373",
        "outputId": "4c0623f3-f0aa-4373-b7a0-8356d242fcab"
      },
      "outputs": [
        {
          "output_type": "stream",
          "name": "stdout",
          "text": [
            "   ID  Gender   Salary Country    Company\n",
            "0   1    Male  15000.0   India  Microsoft\n",
            "2   3  Female  25000.0   India  Microsoft\n"
          ]
        }
      ],
      "source": [
        "print(df.replace(to_replace = 'Google', value = 'Microsoft'))"
      ]
    },
    {
      "cell_type": "code",
      "execution_count": null,
      "id": "5fcd8fcd",
      "metadata": {
        "colab": {
          "base_uri": "https://localhost:8080/"
        },
        "id": "5fcd8fcd",
        "outputId": "9287c55a-8895-4025-bdb7-754578b842df"
      },
      "outputs": [
        {
          "output_type": "stream",
          "name": "stdout",
          "text": [
            "   ID  Gender   Salary Country Company\n",
            "0   1    Male  15000.0   India  Google\n",
            "2   3  Female  25000.0   India  Google\n"
          ]
        }
      ],
      "source": [
        "print(df.interpolate(method ='linear', limit_direction ='forward'))"
      ]
    },
    {
      "cell_type": "code",
      "execution_count": null,
      "id": "9fed1717",
      "metadata": {
        "id": "9fed1717"
      },
      "outputs": [],
      "source": []
    }
  ],
  "metadata": {
    "kernelspec": {
      "display_name": "Python 3 (ipykernel)",
      "language": "python",
      "name": "python3"
    },
    "language_info": {
      "codemirror_mode": {
        "name": "ipython",
        "version": 3
      },
      "file_extension": ".py",
      "mimetype": "text/x-python",
      "name": "python",
      "nbconvert_exporter": "python",
      "pygments_lexer": "ipython3",
      "version": "3.9.7"
    },
    "colab": {
      "provenance": [],
      "include_colab_link": true
    }
  },
  "nbformat": 4,
  "nbformat_minor": 5
}