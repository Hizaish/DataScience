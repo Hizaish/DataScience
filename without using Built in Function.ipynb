{
 "cells": [
  {
   "cell_type": "code",
   "execution_count": 1,
   "id": "72132460",
   "metadata": {},
   "outputs": [
    {
     "name": "stdout",
     "output_type": "stream",
     "text": [
      "Enter the No of Values : 8\n"
     ]
    }
   ],
   "source": [
    "#sigma=population standard deviation\n",
    "#mu=population mean\n",
    "\n",
    "import numpy as np\n",
    "import math\n",
    "n=int(input(\"Enter the No of Values : \"))\n",
    "mylist=[]\n",
    "variance=0\n",
    "summ=0"
   ]
  },
  {
   "cell_type": "code",
   "execution_count": 2,
   "id": "1a76c018",
   "metadata": {},
   "outputs": [
    {
     "name": "stdout",
     "output_type": "stream",
     "text": [
      "Enter the Value : 10\n",
      "Enter the Value : 12\n",
      "Enter the Value : 22\n",
      "Enter the Value : 21\n",
      "Enter the Value : 50\n",
      "Enter the Value : 24\n",
      "Enter the Value : 20\n",
      "Enter the Value : 30\n"
     ]
    }
   ],
   "source": [
    "for i in range(n):\n",
    "    ele=int(input(\"Enter the Value : \"))\n",
    "    mylist.append(ele)\n",
    "    summ=summ+ele"
   ]
  },
  {
   "cell_type": "code",
   "execution_count": 3,
   "id": "d343ecd7",
   "metadata": {},
   "outputs": [
    {
     "data": {
      "text/plain": [
       "[10, 12, 20, 21, 22, 24, 30, 50]"
      ]
     },
     "execution_count": 3,
     "metadata": {},
     "output_type": "execute_result"
    }
   ],
   "source": [
    "#sorting the data in mylist\n",
    "for i in range(n):\n",
    "    for j in range(0, n-i-1):\n",
    "        if mylist[j] > mylist[j+1]:\n",
    "            temp=mylist[j]\n",
    "            mylist[j]=mylist[j+1]\n",
    "            mylist[j+1]=temp\n",
    "mylist"
   ]
  },
  {
   "cell_type": "code",
   "execution_count": 4,
   "id": "e80fee4d",
   "metadata": {},
   "outputs": [
    {
     "name": "stdout",
     "output_type": "stream",
     "text": [
      "Maximum  value is :  50\n",
      "Minimum  value is :  10\n"
     ]
    }
   ],
   "source": [
    "maxx=np.max(mylist)\n",
    "print(\"Maximum  value is : \",maxx)\n",
    "minn=np.min(mylist)\n",
    "print(\"Minimum  value is : \",minn)"
   ]
  },
  {
   "cell_type": "code",
   "execution_count": 5,
   "id": "7fb0d2da",
   "metadata": {},
   "outputs": [
    {
     "name": "stdout",
     "output_type": "stream",
     "text": [
      "The Range is :  40\n"
     ]
    }
   ],
   "source": [
    "#Range\n",
    "\n",
    "rangee=maxx-minn\n",
    "print(\"The Range is : \",rangee)"
   ]
  },
  {
   "cell_type": "code",
   "execution_count": 6,
   "id": "a91c86f5",
   "metadata": {},
   "outputs": [
    {
     "name": "stdout",
     "output_type": "stream",
     "text": [
      "Mean is :  23.625\n"
     ]
    }
   ],
   "source": [
    "#Mean\n",
    "\n",
    "mean=summ/n\n",
    "print(\"Mean is : \",mean)\n"
   ]
  },
  {
   "cell_type": "code",
   "execution_count": 7,
   "id": "d2f49e25",
   "metadata": {},
   "outputs": [
    {
     "name": "stdout",
     "output_type": "stream",
     "text": [
      "Variance is :  134.984375\n"
     ]
    }
   ],
   "source": [
    "#variance\n",
    "\n",
    "for i in range(0,n):\n",
    "    variance=variance+(pow((mylist[i]-mean),2))/n\n",
    "print(\"Variance is : \",variance)"
   ]
  },
  {
   "cell_type": "code",
   "execution_count": 8,
   "id": "7c8b1627",
   "metadata": {},
   "outputs": [
    {
     "name": "stdout",
     "output_type": "stream",
     "text": [
      "Standard Deviation is :  11.61827762622326\n"
     ]
    }
   ],
   "source": [
    "#standard deviation\n",
    "\n",
    "sd=math.sqrt(variance)\n",
    "\n",
    "print(\"Standard Deviation is : \",sd)\n"
   ]
  },
  {
   "cell_type": "code",
   "execution_count": 9,
   "id": "abf04ee1",
   "metadata": {},
   "outputs": [
    {
     "name": "stdout",
     "output_type": "stream",
     "text": [
      "Coefficient of Range :  0.6666666666666666\n"
     ]
    }
   ],
   "source": [
    "#coefficient of range\n",
    "\n",
    "CoE=(maxx-minn)/(maxx+minn)\n",
    "print(\"Coefficient of Range : \",CoE)"
   ]
  },
  {
   "cell_type": "code",
   "execution_count": 10,
   "id": "b4ef1f33",
   "metadata": {},
   "outputs": [
    {
     "name": "stdout",
     "output_type": "stream",
     "text": [
      "Coefficient of Variation :  0.4917789471417253\n"
     ]
    }
   ],
   "source": [
    "#Coefficient of Variation\n",
    "\n",
    "CoV=sd/mean\n",
    "print(\"Coefficient of Variation : \",CoV)"
   ]
  },
  {
   "cell_type": "code",
   "execution_count": 11,
   "id": "8e61e060",
   "metadata": {},
   "outputs": [
    {
     "name": "stdout",
     "output_type": "stream",
     "text": [
      "Quartile Q1 is :  2.25\n",
      "Quartile Q3 is :  6.75\n",
      "Inter Quartile Range is :  4.5\n",
      "Qurtile value at q1 is  14.0\n",
      "Qurtile value at q3 is  28.5\n"
     ]
    }
   ],
   "source": [
    "n=len(mylist)\n",
    "\n",
    "#Quartile Formula Q1\n",
    "\n",
    "q1=(n+1)/4\n",
    "\n",
    "#Quartile Formula Q1\n",
    "\n",
    "q3=3*(n+1)/4\n",
    "\n",
    "#InterQuartile Range IQR\n",
    "\n",
    "iqr=q3-q1\n",
    "\n",
    "#divmod function seperates integer and decimal\n",
    "\n",
    "i,d=divmod(q1,1)\n",
    "\n",
    "q1value=mylist[int(i-1)]+d*(mylist[int(i)]-mylist[int(i-1)])\n",
    "\n",
    "j,d=divmod(q3,1)\n",
    "\n",
    "q2value=mylist[int(j-1)]+d*(mylist[int(j)]-mylist[int(j-1)])\n",
    "\n",
    "print(\"Quartile Q1 is : \",q1)\n",
    "print(\"Quartile Q3 is : \",q3)\n",
    "print(\"Inter Quartile Range is : \",iqr)\n",
    "print(\"Qurtile value at q1 is \",q1value)\n",
    "print(\"Qurtile value at q3 is \",q2value)"
   ]
  },
  {
   "cell_type": "code",
   "execution_count": 12,
   "id": "e044576b",
   "metadata": {},
   "outputs": [
    {
     "name": "stdout",
     "output_type": "stream",
     "text": [
      "Enter the value of Percentile5\n",
      "The Percentile Value is  32.0\n"
     ]
    }
   ],
   "source": [
    "#percentile for ungrouped data\n",
    "p=int(input(\"Enter the value of Percentile\"))\n",
    "p=p/100\n",
    "percentile=p*(n+1)\n",
    "#divmod function seperates integer and decimal\n",
    "i,d=divmod(percentile,1)\n",
    "pvalue=mylist[int(i-1)]+d*(mylist[int(i)]-mylist[int(i-1)])\n",
    "print(\"The Percentile Value is \",pvalue)"
   ]
  },
  {
   "cell_type": "code",
   "execution_count": 13,
   "id": "c886fd5f",
   "metadata": {},
   "outputs": [
    {
     "name": "stdout",
     "output_type": "stream",
     "text": [
      "Enter the value of the decile b/w 1 and 10: 5\n",
      "the Decile Value is  21.5\n"
     ]
    }
   ],
   "source": [
    "#decile for ungrouped data\n",
    "de=input(\"Enter the value of the decile b/w 1 and 10: \")\n",
    "decile=((n+1)*int(de))/10\n",
    "#divmod function seperates integer and decimal\n",
    "i,d=divmod(decile,1)\n",
    "decilevalue=pvalue=mylist[int(i-1)]+d*(mylist[int(i)]-mylist[int(i-1)])\n",
    "print(\"the Decile Value is \",decilevalue)\n"
   ]
  },
  {
   "cell_type": "code",
   "execution_count": null,
   "id": "c007dd66",
   "metadata": {},
   "outputs": [],
   "source": []
  }
 ],
 "metadata": {
  "kernelspec": {
   "display_name": "Python 3 (ipykernel)",
   "language": "python",
   "name": "python3"
  },
  "language_info": {
   "codemirror_mode": {
    "name": "ipython",
    "version": 3
   },
   "file_extension": ".py",
   "mimetype": "text/x-python",
   "name": "python",
   "nbconvert_exporter": "python",
   "pygments_lexer": "ipython3",
   "version": "3.10.9"
  }
 },
 "nbformat": 4,
 "nbformat_minor": 5
}
