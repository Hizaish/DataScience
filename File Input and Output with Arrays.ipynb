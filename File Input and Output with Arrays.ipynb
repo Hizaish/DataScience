{
 "cells": [
  {
   "cell_type": "code",
   "execution_count": 1,
   "id": "9c2815ef",
   "metadata": {},
   "outputs": [
    {
     "name": "stdout",
     "output_type": "stream",
     "text": [
      "[0 1 2 3 4 5 6 7 8 9]\n"
     ]
    }
   ],
   "source": [
    "import numpy as np\n",
    "arr=np.arange(10)\n",
    "print(arr)\n",
    "np.save('some_array',arr)"
   ]
  },
  {
   "cell_type": "code",
   "execution_count": 2,
   "id": "36b09394",
   "metadata": {},
   "outputs": [
    {
     "data": {
      "text/plain": [
       "array([0, 1, 2, 3, 4, 5, 6, 7, 8, 9])"
      ]
     },
     "execution_count": 2,
     "metadata": {},
     "output_type": "execute_result"
    }
   ],
   "source": [
    "np.load('some_array.npy')\n"
   ]
  },
  {
   "cell_type": "code",
   "execution_count": 3,
   "id": "6b93c253",
   "metadata": {},
   "outputs": [],
   "source": [
    "np.savez('array_archieve.npz',a=arr,b=arr)"
   ]
  },
  {
   "cell_type": "code",
   "execution_count": 4,
   "id": "0f3cf396",
   "metadata": {},
   "outputs": [],
   "source": [
    "arch=np.load('array_archieve.npz')"
   ]
  },
  {
   "cell_type": "code",
   "execution_count": 5,
   "id": "57011c39",
   "metadata": {},
   "outputs": [
    {
     "data": {
      "text/plain": [
       "array([0, 1, 2, 3, 4, 5, 6, 7, 8, 9])"
      ]
     },
     "execution_count": 5,
     "metadata": {},
     "output_type": "execute_result"
    }
   ],
   "source": [
    "arch['b']"
   ]
  },
  {
   "cell_type": "code",
   "execution_count": 6,
   "id": "26b9acb2",
   "metadata": {},
   "outputs": [],
   "source": [
    "from numpy.linalg import inv,qr"
   ]
  },
  {
   "cell_type": "code",
   "execution_count": 12,
   "id": "b5a9a1e7",
   "metadata": {},
   "outputs": [
    {
     "ename": "NameError",
     "evalue": "name 'randn' is not defined",
     "output_type": "error",
     "traceback": [
      "\u001b[1;31m---------------------------------------------------------------------------\u001b[0m",
      "\u001b[1;31mNameError\u001b[0m                                 Traceback (most recent call last)",
      "Cell \u001b[1;32mIn[12], line 1\u001b[0m\n\u001b[1;32m----> 1\u001b[0m X\u001b[38;5;241m=\u001b[39m\u001b[43mrandn\u001b[49m(\u001b[38;5;241m5\u001b[39m,\u001b[38;5;241m5\u001b[39m)\n",
      "\u001b[1;31mNameError\u001b[0m: name 'randn' is not defined"
     ]
    }
   ],
   "source": [
    "X=randn(5,5)"
   ]
  },
  {
   "cell_type": "code",
   "execution_count": null,
   "id": "b12346ea",
   "metadata": {},
   "outputs": [],
   "source": [
    "mat=X.T.dot(X)"
   ]
  },
  {
   "cell_type": "code",
   "execution_count": null,
   "id": "c5f2c048",
   "metadata": {},
   "outputs": [],
   "source": [
    "inv(mat)"
   ]
  },
  {
   "cell_type": "code",
   "execution_count": null,
   "id": "22ef7259",
   "metadata": {},
   "outputs": [],
   "source": [
    "mat.dot(inv(mat))"
   ]
  },
  {
   "cell_type": "code",
   "execution_count": null,
   "id": "2e48f281",
   "metadata": {},
   "outputs": [],
   "source": []
  }
 ],
 "metadata": {
  "kernelspec": {
   "display_name": "Python 3 (ipykernel)",
   "language": "python",
   "name": "python3"
  },
  "language_info": {
   "codemirror_mode": {
    "name": "ipython",
    "version": 3
   },
   "file_extension": ".py",
   "mimetype": "text/x-python",
   "name": "python",
   "nbconvert_exporter": "python",
   "pygments_lexer": "ipython3",
   "version": "3.10.9"
  }
 },
 "nbformat": 4,
 "nbformat_minor": 5
}
